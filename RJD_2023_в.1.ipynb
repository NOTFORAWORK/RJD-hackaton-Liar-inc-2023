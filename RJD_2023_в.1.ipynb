{
  "nbformat": 4,
  "nbformat_minor": 0,
  "metadata": {
    "colab": {
      "provenance": []
    },
    "kernelspec": {
      "name": "python3",
      "display_name": "Python 3"
    },
    "language_info": {
      "name": "python"
    }
  },
  "cells": [
    {
      "cell_type": "markdown",
      "source": [
        "# ЗАДАЧА от РЖД: Автоматизация"
      ],
      "metadata": {
        "id": "vg1NFvKUdiUq"
      }
    },
    {
      "cell_type": "markdown",
      "source": [
        "## Установка библиотек"
      ],
      "metadata": {
        "id": "JO7W2iTLdpSB"
      }
    },
    {
      "cell_type": "code",
      "source": [
        "!pip install surprise"
      ],
      "metadata": {
        "id": "9tvJNiaseDbq"
      },
      "execution_count": null,
      "outputs": []
    },
    {
      "cell_type": "markdown",
      "source": [
        "## Импорт библиотек, методов, классов"
      ],
      "metadata": {
        "id": "5jwnKV9Udsv8"
      }
    },
    {
      "cell_type": "code",
      "source": [
        "import numpy as np\n",
        "import pandas as pd\n",
        "import matplotlib.pyplot as plt\n",
        "import seaborn as sns\n",
        "\n",
        "import scipy as sp\n",
        "import sklearn\n",
        "\n",
        "import surprise\n",
        "\n",
        "from matplotlib.patches import Rectangle"
      ],
      "metadata": {
        "id": "m0KY_9me9x4x"
      },
      "execution_count": 4,
      "outputs": []
    },
    {
      "cell_type": "markdown",
      "source": [
        "## Функции, нужные для расчета параметров:"
      ],
      "metadata": {
        "id": "iRyN1NqT-A6A"
      }
    },
    {
      "cell_type": "markdown",
      "source": [
        "* функция для визуализации схемы размещения груза на открытой платформе:"
      ],
      "metadata": {
        "id": "YfnOLe_JpE1I"
      }
    },
    {
      "cell_type": "code",
      "source": [
        "def plotBox (x,y, bias_x=0, bias_y=0, lp =0):\n",
        "\n",
        "    x0 = x+bias_x\n",
        "    y0 = y+bias_y\n",
        "\n",
        "    x_centr = x0 - x/2\n",
        "    y_centr = y0 - y/2\n",
        "\n",
        "\n",
        "    xx = [bias_x, x0, x0, bias_x, bias_x]\n",
        "    yy = [bias_y , bias_y ,y0, y0, bias_y]\n",
        "    ax.plot(xx, yy, color=\"blue\", linewidth=3)\n",
        "\n",
        "    ax.plot(x_centr, y_centr,  marker=\"o\", markersize=markersize, color=\"red\")\n",
        "    ax.text (x_centr-100, y_centr+100, f'ЦТгр {lp}')"
      ],
      "metadata": {
        "id": "JOKf8yGj-C1t"
      },
      "execution_count": null,
      "outputs": []
    },
    {
      "cell_type": "code",
      "source": [
        "add_width_text = 200\n",
        "add_height_text = 5\n",
        "\n",
        "\n",
        "add_width  = 1000\n",
        "add_height = 200\n",
        "\n",
        "\n",
        "def plotArrow_W(x,y, bias_x=0, bias_y=0, direction = 1, y_top = 0, centr =0):\n",
        "    head_width = 50\n",
        "    add_width  = x/2\n",
        "    # add_height = 100\n",
        "\n",
        "    # add_width_text = 50\n",
        "    # add_height_text = 50\n",
        "\n",
        "    x0 = bias_x\n",
        "    y0 = bias_y\n",
        "\n",
        "    y1 = y0\n",
        "    y2 = y0 + y\n",
        "\n",
        "    if y_top ==0:\n",
        "        y3 = y2 + (add_height)*direction\n",
        "    else:\n",
        "        y3 = y_top\n",
        "\n",
        "\n",
        "    y4 = y3 - (add_height/2)*direction\n",
        "\n",
        "    if direction== -1:\n",
        "        y3 = y1 + (add_height)*direction\n",
        "        y4 = y3 - (add_height/2)*direction\n",
        "\n",
        "\n",
        "    x1 = x0\n",
        "    x2 = x0+x\n",
        "\n",
        "    x3 = x2 + add_width\n",
        "    x4 = x3 - add_width/2\n",
        "\n",
        "\n",
        "\n",
        "    xx = [x1, x1]\n",
        "    yy = [y1 , y3]\n",
        "    ax.plot(xx, yy, color=\"red\")\n",
        "\n",
        "    xx = [x2 , x2]\n",
        "    yy = [y1 , y3]\n",
        "    ax.plot(xx, yy, color=\"red\")\n",
        "\n",
        "\n",
        "    ax.arrow( x1 , y4,   x-head_width*2 , 0 , head_width = head_width,  color=\"black\",  width=1)\n",
        "    ax.arrow( x2 , y4,  -x+head_width*2 , 0 , head_width = head_width,  color=\"black\",  width=1)\n",
        "    ax.text (x1+(x/2)-30, y3+add_height_text, x)\n",
        "\n",
        "def plotArrow_H(x,y, bias_x=0, bias_y=0, direction = 1, centr=1, x_top = 0, to_floor=0):\n",
        "\n",
        "\n",
        "    head_width = 50\n",
        "    add_width  = x/4\n",
        "    add_height = y/4\n",
        "\n",
        "    # add_width_text = 50\n",
        "    # add_height_text = 50\n",
        "\n",
        "    x0 = bias_x\n",
        "    y0 = bias_y\n",
        "\n",
        "    y1 = bias_y\n",
        "    y2 = y+bias_y\n",
        "\n",
        "    y3 = y2 + add_height\n",
        "    y4 = y3 - add_height/2\n",
        "\n",
        "    x1 = bias_x\n",
        "    x2 = x1 + x\n",
        "\n",
        "    if direction == 1:\n",
        "        x3 = x1 - add_width\n",
        "        x4 = x3 + add_width/2\n",
        "    else:\n",
        "        x3 = x1 + add_width\n",
        "        x4 = x3 - add_width/2\n",
        "\n",
        "    if to_floor == 1:\n",
        "        y1 = 0\n",
        "        x3 = x1 + add_width*3\n",
        "        x4 = x3 - add_width/2\n",
        "        y = y2\n",
        "\n",
        "\n",
        "    xx = [x1, x3]\n",
        "    yy = [y1 , y1]\n",
        "    ax.plot(xx, yy, color=\"red\")\n",
        "\n",
        "    xx = [x1 , x3]\n",
        "    yy = [y2 , y2]\n",
        "    ax.plot(xx, yy, color=\"red\")\n",
        "\n",
        "    ax.arrow( x4 , y1,  0 , y - head_width*2, head_width = head_width,  color=\"black\",  width=1)\n",
        "    ax.arrow( x4 , y2,  0 , -y + head_width*2, head_width = head_width,  color=\"black\",  width=1)\n",
        "    ax.text (x3-30, y1+(y/2), y, rotation = 90)"
      ],
      "metadata": {
        "id": "3vEPHF6gk5tf"
      },
      "execution_count": null,
      "outputs": []
    },
    {
      "cell_type": "markdown",
      "source": [
        "* функции для расчета параметров размещения груза:"
      ],
      "metadata": {
        "id": "zSMc3gsMpN80"
      }
    },
    {
      "cell_type": "code",
      "source": [
        "def bias_prod(df):\n",
        "  L_c=(0.5*13300-(df['вес_единицы']*df['L_i']*df['количество']).sum()/(df['вес_единицы']*df['количество']).sum()).round(0)\n",
        "  return L_c"
      ],
      "metadata": {
        "id": "sC8atSVcrClt"
      },
      "execution_count": 86,
      "outputs": []
    },
    {
      "cell_type": "code",
      "source": [
        "def total_H_ct (df):\n",
        "  H_ct = ((df['вес_единицы']*df['h_i']*df['количество']).sum()/(df['вес_единицы']*df['количество']).sum()).round(0)\n",
        "  return H_ct"
      ],
      "metadata": {
        "id": "Es8ZJvYQpTDQ"
      },
      "execution_count": 93,
      "outputs": []
    },
    {
      "cell_type": "code",
      "source": [
        "def total_H_o_ct(df):\n",
        "  delta = ((df['масса_тары']*df['высота_ЦТ_от_УГР']))\n",
        "  H_o_ct=(((df['вес_единицы']*df['h_i']*df['количество']).sum()+delta)/((df['вес_единицы']*df['количество']).sum()+df['масса_тары'])).round(0)\n",
        "  return H_o_ct"
      ],
      "metadata": {
        "id": "cprirZIJ7LK7"
      },
      "execution_count": 152,
      "outputs": []
    },
    {
      "cell_type": "code",
      "source": [
        "def iner_a_prod(df):\n",
        "  iner_a_prod=(df['a_22'] - (0.001*(df['вес_единицы']*df['количество']).sum()*(df['a_22']-df['a_94']))/72).round(3)\n",
        "  return iner_a_prod"
      ],
      "metadata": {
        "id": "t-0iKLxaCEtD"
      },
      "execution_count": 200,
      "outputs": []
    },
    {
      "cell_type": "markdown",
      "source": [
        "## Загрузка исходных данных о грузе и платформе:"
      ],
      "metadata": {
        "id": "yGkmbw89-C_m"
      }
    },
    {
      "cell_type": "code",
      "source": [
        " df = pd.read_csv('order_1.csv', sep=';', header = 0, decimal=\",\")\n",
        " df.head()"
      ],
      "metadata": {
        "colab": {
          "base_uri": "https://localhost:8080/",
          "height": 293
        },
        "id": "TFhK95dv-JLF",
        "outputId": "9497be3f-0a17-49af-e3e7-a7bbc4eaa5c3"
      },
      "execution_count": 175,
      "outputs": [
        {
          "output_type": "execute_result",
          "data": {
            "text/plain": [
              "   orderid тип_платформы модель_платформа  длина_пола  ширина_пола  \\\n",
              "0        1  четырехосная           13-401       13400         2870   \n",
              "1        1  четырехосная           13-401       13400         2870   \n",
              "2        1  четырехосная           13-401       13400         2870   \n",
              "3        1  четырехосная           13-401       13400         2870   \n",
              "\n",
              "   масса_тары  высота_пола_от_УГР  высота_ЦТ_от_УГР  база_платформы  \\\n",
              "0          21                1310               800            9720   \n",
              "1          21                1310               800            9720   \n",
              "2          21                1310               800            9720   \n",
              "3          21                1310               800            9720   \n",
              "\n",
              "      тип_настила_пола  ... nu_pr nu_pr_lim  nu_p  nu_p_lim  R_gv  F_pr_br  \\\n",
              "0  сплошной деревянный  ...   NaN      1.25   NaN      1.25   108      NaN   \n",
              "1  сплошной деревянный  ...   NaN      1.25   NaN      1.25   108      NaN   \n",
              "2  сплошной деревянный  ...   NaN      1.25   NaN      1.25   108      NaN   \n",
              "3  сплошной деревянный  ...   NaN      1.25   NaN      1.25   108      NaN   \n",
              "\n",
              "   sigma_c_pp  sigma_c_pp_lim  sigma_c_prod  sigma_c_prod_lim  \n",
              "0         NaN              12           NaN               120  \n",
              "1         NaN              12           NaN               120  \n",
              "2         0.0              12           0.0               120  \n",
              "3         0.0              12           0.0               120  \n",
              "\n",
              "[4 rows x 61 columns]"
            ],
            "text/html": [
              "\n",
              "  <div id=\"df-d09e424b-75d7-468f-ab87-6e01ff9364f4\" class=\"colab-df-container\">\n",
              "    <div>\n",
              "<style scoped>\n",
              "    .dataframe tbody tr th:only-of-type {\n",
              "        vertical-align: middle;\n",
              "    }\n",
              "\n",
              "    .dataframe tbody tr th {\n",
              "        vertical-align: top;\n",
              "    }\n",
              "\n",
              "    .dataframe thead th {\n",
              "        text-align: right;\n",
              "    }\n",
              "</style>\n",
              "<table border=\"1\" class=\"dataframe\">\n",
              "  <thead>\n",
              "    <tr style=\"text-align: right;\">\n",
              "      <th></th>\n",
              "      <th>orderid</th>\n",
              "      <th>тип_платформы</th>\n",
              "      <th>модель_платформа</th>\n",
              "      <th>длина_пола</th>\n",
              "      <th>ширина_пола</th>\n",
              "      <th>масса_тары</th>\n",
              "      <th>высота_пола_от_УГР</th>\n",
              "      <th>высота_ЦТ_от_УГР</th>\n",
              "      <th>база_платформы</th>\n",
              "      <th>тип_настила_пола</th>\n",
              "      <th>...</th>\n",
              "      <th>nu_pr</th>\n",
              "      <th>nu_pr_lim</th>\n",
              "      <th>nu_p</th>\n",
              "      <th>nu_p_lim</th>\n",
              "      <th>R_gv</th>\n",
              "      <th>F_pr_br</th>\n",
              "      <th>sigma_c_pp</th>\n",
              "      <th>sigma_c_pp_lim</th>\n",
              "      <th>sigma_c_prod</th>\n",
              "      <th>sigma_c_prod_lim</th>\n",
              "    </tr>\n",
              "  </thead>\n",
              "  <tbody>\n",
              "    <tr>\n",
              "      <th>0</th>\n",
              "      <td>1</td>\n",
              "      <td>четырехосная</td>\n",
              "      <td>13-401</td>\n",
              "      <td>13400</td>\n",
              "      <td>2870</td>\n",
              "      <td>21</td>\n",
              "      <td>1310</td>\n",
              "      <td>800</td>\n",
              "      <td>9720</td>\n",
              "      <td>сплошной деревянный</td>\n",
              "      <td>...</td>\n",
              "      <td>NaN</td>\n",
              "      <td>1.25</td>\n",
              "      <td>NaN</td>\n",
              "      <td>1.25</td>\n",
              "      <td>108</td>\n",
              "      <td>NaN</td>\n",
              "      <td>NaN</td>\n",
              "      <td>12</td>\n",
              "      <td>NaN</td>\n",
              "      <td>120</td>\n",
              "    </tr>\n",
              "    <tr>\n",
              "      <th>1</th>\n",
              "      <td>1</td>\n",
              "      <td>четырехосная</td>\n",
              "      <td>13-401</td>\n",
              "      <td>13400</td>\n",
              "      <td>2870</td>\n",
              "      <td>21</td>\n",
              "      <td>1310</td>\n",
              "      <td>800</td>\n",
              "      <td>9720</td>\n",
              "      <td>сплошной деревянный</td>\n",
              "      <td>...</td>\n",
              "      <td>NaN</td>\n",
              "      <td>1.25</td>\n",
              "      <td>NaN</td>\n",
              "      <td>1.25</td>\n",
              "      <td>108</td>\n",
              "      <td>NaN</td>\n",
              "      <td>NaN</td>\n",
              "      <td>12</td>\n",
              "      <td>NaN</td>\n",
              "      <td>120</td>\n",
              "    </tr>\n",
              "    <tr>\n",
              "      <th>2</th>\n",
              "      <td>1</td>\n",
              "      <td>четырехосная</td>\n",
              "      <td>13-401</td>\n",
              "      <td>13400</td>\n",
              "      <td>2870</td>\n",
              "      <td>21</td>\n",
              "      <td>1310</td>\n",
              "      <td>800</td>\n",
              "      <td>9720</td>\n",
              "      <td>сплошной деревянный</td>\n",
              "      <td>...</td>\n",
              "      <td>NaN</td>\n",
              "      <td>1.25</td>\n",
              "      <td>NaN</td>\n",
              "      <td>1.25</td>\n",
              "      <td>108</td>\n",
              "      <td>NaN</td>\n",
              "      <td>0.0</td>\n",
              "      <td>12</td>\n",
              "      <td>0.0</td>\n",
              "      <td>120</td>\n",
              "    </tr>\n",
              "    <tr>\n",
              "      <th>3</th>\n",
              "      <td>1</td>\n",
              "      <td>четырехосная</td>\n",
              "      <td>13-401</td>\n",
              "      <td>13400</td>\n",
              "      <td>2870</td>\n",
              "      <td>21</td>\n",
              "      <td>1310</td>\n",
              "      <td>800</td>\n",
              "      <td>9720</td>\n",
              "      <td>сплошной деревянный</td>\n",
              "      <td>...</td>\n",
              "      <td>NaN</td>\n",
              "      <td>1.25</td>\n",
              "      <td>NaN</td>\n",
              "      <td>1.25</td>\n",
              "      <td>108</td>\n",
              "      <td>NaN</td>\n",
              "      <td>0.0</td>\n",
              "      <td>12</td>\n",
              "      <td>0.0</td>\n",
              "      <td>120</td>\n",
              "    </tr>\n",
              "  </tbody>\n",
              "</table>\n",
              "<p>4 rows × 61 columns</p>\n",
              "</div>\n",
              "    <div class=\"colab-df-buttons\">\n",
              "\n",
              "  <div class=\"colab-df-container\">\n",
              "    <button class=\"colab-df-convert\" onclick=\"convertToInteractive('df-d09e424b-75d7-468f-ab87-6e01ff9364f4')\"\n",
              "            title=\"Convert this dataframe to an interactive table.\"\n",
              "            style=\"display:none;\">\n",
              "\n",
              "  <svg xmlns=\"http://www.w3.org/2000/svg\" height=\"24px\" viewBox=\"0 -960 960 960\">\n",
              "    <path d=\"M120-120v-720h720v720H120Zm60-500h600v-160H180v160Zm220 220h160v-160H400v160Zm0 220h160v-160H400v160ZM180-400h160v-160H180v160Zm440 0h160v-160H620v160ZM180-180h160v-160H180v160Zm440 0h160v-160H620v160Z\"/>\n",
              "  </svg>\n",
              "    </button>\n",
              "\n",
              "  <style>\n",
              "    .colab-df-container {\n",
              "      display:flex;\n",
              "      gap: 12px;\n",
              "    }\n",
              "\n",
              "    .colab-df-convert {\n",
              "      background-color: #E8F0FE;\n",
              "      border: none;\n",
              "      border-radius: 50%;\n",
              "      cursor: pointer;\n",
              "      display: none;\n",
              "      fill: #1967D2;\n",
              "      height: 32px;\n",
              "      padding: 0 0 0 0;\n",
              "      width: 32px;\n",
              "    }\n",
              "\n",
              "    .colab-df-convert:hover {\n",
              "      background-color: #E2EBFA;\n",
              "      box-shadow: 0px 1px 2px rgba(60, 64, 67, 0.3), 0px 1px 3px 1px rgba(60, 64, 67, 0.15);\n",
              "      fill: #174EA6;\n",
              "    }\n",
              "\n",
              "    .colab-df-buttons div {\n",
              "      margin-bottom: 4px;\n",
              "    }\n",
              "\n",
              "    [theme=dark] .colab-df-convert {\n",
              "      background-color: #3B4455;\n",
              "      fill: #D2E3FC;\n",
              "    }\n",
              "\n",
              "    [theme=dark] .colab-df-convert:hover {\n",
              "      background-color: #434B5C;\n",
              "      box-shadow: 0px 1px 3px 1px rgba(0, 0, 0, 0.15);\n",
              "      filter: drop-shadow(0px 1px 2px rgba(0, 0, 0, 0.3));\n",
              "      fill: #FFFFFF;\n",
              "    }\n",
              "  </style>\n",
              "\n",
              "    <script>\n",
              "      const buttonEl =\n",
              "        document.querySelector('#df-d09e424b-75d7-468f-ab87-6e01ff9364f4 button.colab-df-convert');\n",
              "      buttonEl.style.display =\n",
              "        google.colab.kernel.accessAllowed ? 'block' : 'none';\n",
              "\n",
              "      async function convertToInteractive(key) {\n",
              "        const element = document.querySelector('#df-d09e424b-75d7-468f-ab87-6e01ff9364f4');\n",
              "        const dataTable =\n",
              "          await google.colab.kernel.invokeFunction('convertToInteractive',\n",
              "                                                    [key], {});\n",
              "        if (!dataTable) return;\n",
              "\n",
              "        const docLinkHtml = 'Like what you see? Visit the ' +\n",
              "          '<a target=\"_blank\" href=https://colab.research.google.com/notebooks/data_table.ipynb>data table notebook</a>'\n",
              "          + ' to learn more about interactive tables.';\n",
              "        element.innerHTML = '';\n",
              "        dataTable['output_type'] = 'display_data';\n",
              "        await google.colab.output.renderOutput(dataTable, element);\n",
              "        const docLink = document.createElement('div');\n",
              "        docLink.innerHTML = docLinkHtml;\n",
              "        element.appendChild(docLink);\n",
              "      }\n",
              "    </script>\n",
              "  </div>\n",
              "\n",
              "\n",
              "<div id=\"df-5c635d1f-f932-4757-8e4d-0125dd3b8f7a\">\n",
              "  <button class=\"colab-df-quickchart\" onclick=\"quickchart('df-5c635d1f-f932-4757-8e4d-0125dd3b8f7a')\"\n",
              "            title=\"Suggest charts.\"\n",
              "            style=\"display:none;\">\n",
              "\n",
              "<svg xmlns=\"http://www.w3.org/2000/svg\" height=\"24px\"viewBox=\"0 0 24 24\"\n",
              "     width=\"24px\">\n",
              "    <g>\n",
              "        <path d=\"M19 3H5c-1.1 0-2 .9-2 2v14c0 1.1.9 2 2 2h14c1.1 0 2-.9 2-2V5c0-1.1-.9-2-2-2zM9 17H7v-7h2v7zm4 0h-2V7h2v10zm4 0h-2v-4h2v4z\"/>\n",
              "    </g>\n",
              "</svg>\n",
              "  </button>\n",
              "\n",
              "<style>\n",
              "  .colab-df-quickchart {\n",
              "      --bg-color: #E8F0FE;\n",
              "      --fill-color: #1967D2;\n",
              "      --hover-bg-color: #E2EBFA;\n",
              "      --hover-fill-color: #174EA6;\n",
              "      --disabled-fill-color: #AAA;\n",
              "      --disabled-bg-color: #DDD;\n",
              "  }\n",
              "\n",
              "  [theme=dark] .colab-df-quickchart {\n",
              "      --bg-color: #3B4455;\n",
              "      --fill-color: #D2E3FC;\n",
              "      --hover-bg-color: #434B5C;\n",
              "      --hover-fill-color: #FFFFFF;\n",
              "      --disabled-bg-color: #3B4455;\n",
              "      --disabled-fill-color: #666;\n",
              "  }\n",
              "\n",
              "  .colab-df-quickchart {\n",
              "    background-color: var(--bg-color);\n",
              "    border: none;\n",
              "    border-radius: 50%;\n",
              "    cursor: pointer;\n",
              "    display: none;\n",
              "    fill: var(--fill-color);\n",
              "    height: 32px;\n",
              "    padding: 0;\n",
              "    width: 32px;\n",
              "  }\n",
              "\n",
              "  .colab-df-quickchart:hover {\n",
              "    background-color: var(--hover-bg-color);\n",
              "    box-shadow: 0 1px 2px rgba(60, 64, 67, 0.3), 0 1px 3px 1px rgba(60, 64, 67, 0.15);\n",
              "    fill: var(--button-hover-fill-color);\n",
              "  }\n",
              "\n",
              "  .colab-df-quickchart-complete:disabled,\n",
              "  .colab-df-quickchart-complete:disabled:hover {\n",
              "    background-color: var(--disabled-bg-color);\n",
              "    fill: var(--disabled-fill-color);\n",
              "    box-shadow: none;\n",
              "  }\n",
              "\n",
              "  .colab-df-spinner {\n",
              "    border: 2px solid var(--fill-color);\n",
              "    border-color: transparent;\n",
              "    border-bottom-color: var(--fill-color);\n",
              "    animation:\n",
              "      spin 1s steps(1) infinite;\n",
              "  }\n",
              "\n",
              "  @keyframes spin {\n",
              "    0% {\n",
              "      border-color: transparent;\n",
              "      border-bottom-color: var(--fill-color);\n",
              "      border-left-color: var(--fill-color);\n",
              "    }\n",
              "    20% {\n",
              "      border-color: transparent;\n",
              "      border-left-color: var(--fill-color);\n",
              "      border-top-color: var(--fill-color);\n",
              "    }\n",
              "    30% {\n",
              "      border-color: transparent;\n",
              "      border-left-color: var(--fill-color);\n",
              "      border-top-color: var(--fill-color);\n",
              "      border-right-color: var(--fill-color);\n",
              "    }\n",
              "    40% {\n",
              "      border-color: transparent;\n",
              "      border-right-color: var(--fill-color);\n",
              "      border-top-color: var(--fill-color);\n",
              "    }\n",
              "    60% {\n",
              "      border-color: transparent;\n",
              "      border-right-color: var(--fill-color);\n",
              "    }\n",
              "    80% {\n",
              "      border-color: transparent;\n",
              "      border-right-color: var(--fill-color);\n",
              "      border-bottom-color: var(--fill-color);\n",
              "    }\n",
              "    90% {\n",
              "      border-color: transparent;\n",
              "      border-bottom-color: var(--fill-color);\n",
              "    }\n",
              "  }\n",
              "</style>\n",
              "\n",
              "  <script>\n",
              "    async function quickchart(key) {\n",
              "      const quickchartButtonEl =\n",
              "        document.querySelector('#' + key + ' button');\n",
              "      quickchartButtonEl.disabled = true;  // To prevent multiple clicks.\n",
              "      quickchartButtonEl.classList.add('colab-df-spinner');\n",
              "      try {\n",
              "        const charts = await google.colab.kernel.invokeFunction(\n",
              "            'suggestCharts', [key], {});\n",
              "      } catch (error) {\n",
              "        console.error('Error during call to suggestCharts:', error);\n",
              "      }\n",
              "      quickchartButtonEl.classList.remove('colab-df-spinner');\n",
              "      quickchartButtonEl.classList.add('colab-df-quickchart-complete');\n",
              "    }\n",
              "    (() => {\n",
              "      let quickchartButtonEl =\n",
              "        document.querySelector('#df-5c635d1f-f932-4757-8e4d-0125dd3b8f7a button');\n",
              "      quickchartButtonEl.style.display =\n",
              "        google.colab.kernel.accessAllowed ? 'block' : 'none';\n",
              "    })();\n",
              "  </script>\n",
              "</div>\n",
              "    </div>\n",
              "  </div>\n"
            ]
          },
          "metadata": {},
          "execution_count": 175
        }
      ]
    },
    {
      "cell_type": "markdown",
      "source": [
        "* расчет параметров размещения груза на платформе:"
      ],
      "metadata": {
        "id": "ywkPH-1WqRpk"
      }
    },
    {
      "cell_type": "code",
      "source": [
        "df.info()"
      ],
      "metadata": {
        "id": "EXfBfpNsqaaE"
      },
      "execution_count": null,
      "outputs": []
    },
    {
      "cell_type": "code",
      "source": [
        "# Смещение ЦТ грузов в вагоне:\n",
        "df['L_c']=bias_prod(df)"
      ],
      "metadata": {
        "id": "qIn2zS75puKe"
      },
      "execution_count": 182,
      "outputs": []
    },
    {
      "cell_type": "code",
      "source": [
        "# Общая высота ЦТ:\n",
        "df['H_ct']=total_H_ct(df)"
      ],
      "metadata": {
        "id": "Vcj6UYY33l7n"
      },
      "execution_count": 183,
      "outputs": []
    },
    {
      "cell_type": "code",
      "source": [
        "# Общая высота ЦТ:\n",
        "df['H_ct']=total_H_ct(df)"
      ],
      "metadata": {
        "id": "VKEUC8vC6xxX"
      },
      "execution_count": 184,
      "outputs": []
    },
    {
      "cell_type": "code",
      "source": [
        "# Устойчивость грузов с вагоном\n",
        "## Общая высота ЦТ\n",
        "\n",
        "df['H_o_ct']=total_H_o_ct(df)"
      ],
      "metadata": {
        "id": "bttVdrhu0lP7"
      },
      "execution_count": 185,
      "outputs": []
    },
    {
      "cell_type": "code",
      "source": [
        "## Расчет наветренной поверхности\n",
        "\n",
        "df['S_bok']=5.07+3.7+0.42+4.72+7"
      ],
      "metadata": {
        "id": "pY5kvyaRA4zr"
      },
      "execution_count": 186,
      "outputs": []
    },
    {
      "cell_type": "code",
      "source": [
        "# Расчет сил, действующих на Груз № 1\n",
        "## Продольная инерционная сила\n",
        "\n",
        "df['a_prod'] = iner_a_prod(df)\n",
        "df['F_prod'][0] = (df['a_prod'][0] *0.001*(df['вес_единицы'][0] *df['количество'][0])).round(3)\n",
        "\n",
        "## Поперечная инерционная сила\n",
        "df['a_pp'] = (0.33 + 0.44*(3595/df['база_платформы'])).round(3)\n",
        "df['F_pp'][0] = (df['a_pp'][0] *0.001*(df['вес_единицы'][0] *df['количество'][0])).round(2)\n",
        "\n",
        "## Вертикальная инерционная сила\n",
        "\n",
        "\n",
        "## Ветровая нагрузка\n",
        "\n",
        "\n",
        "## Сила трения в продольном направлении\n",
        "\n",
        "\n",
        "## Сила трения в поперечном направлении\n",
        "\n",
        "\n",
        "## Усилия которые должны восприниматься средствами крепления\n",
        "### Продольное:\n",
        "\n",
        "\n",
        "### Поперечное:\n"
      ],
      "metadata": {
        "colab": {
          "base_uri": "https://localhost:8080/"
        },
        "id": "XKbHt8NwBcTr",
        "outputId": "9d85a0fa-299f-48f1-abb3-c127624a9847"
      },
      "execution_count": 223,
      "outputs": [
        {
          "output_type": "stream",
          "name": "stderr",
          "text": [
            "<ipython-input-223-b47be2a86668>:5: SettingWithCopyWarning: \n",
            "A value is trying to be set on a copy of a slice from a DataFrame\n",
            "\n",
            "See the caveats in the documentation: https://pandas.pydata.org/pandas-docs/stable/user_guide/indexing.html#returning-a-view-versus-a-copy\n",
            "  df['F_prod'][0] = (df['a_prod'][0] *0.001*(df['вес_единицы'][0] *df['количество'][0])).round(3)\n",
            "<ipython-input-223-b47be2a86668>:9: SettingWithCopyWarning: \n",
            "A value is trying to be set on a copy of a slice from a DataFrame\n",
            "\n",
            "See the caveats in the documentation: https://pandas.pydata.org/pandas-docs/stable/user_guide/indexing.html#returning-a-view-versus-a-copy\n",
            "  df['F_pp'][0] = (df['a_pp'][0] *0.001*(df['вес_единицы'][0] *df['количество'][0])).round(2)\n"
          ]
        }
      ]
    },
    {
      "cell_type": "code",
      "source": [
        "# Расчет сил, действующих на Груз № 2\n"
      ],
      "metadata": {
        "id": "UmqS4UTgBe9_"
      },
      "execution_count": null,
      "outputs": []
    },
    {
      "cell_type": "code",
      "source": [
        "# Расчет сил, действующих на Груз № 3\n"
      ],
      "metadata": {
        "id": "-xRgh9ZRBfLm"
      },
      "execution_count": null,
      "outputs": []
    },
    {
      "cell_type": "code",
      "source": [
        "# Расчет сил, действующих на Груз № 4\n"
      ],
      "metadata": {
        "id": "ZlpQHNbVBfV7"
      },
      "execution_count": null,
      "outputs": []
    },
    {
      "cell_type": "code",
      "source": [
        "df['F_pp'].head()"
      ],
      "metadata": {
        "colab": {
          "base_uri": "https://localhost:8080/"
        },
        "id": "Fn_2s7gh7FgQ",
        "outputId": "07d4fe6d-c03b-4bc4-86ea-a07fca00dfa6"
      },
      "execution_count": 224,
      "outputs": [
        {
          "output_type": "execute_result",
          "data": {
            "text/plain": [
              "0    3.29\n",
              "1     NaN\n",
              "2     NaN\n",
              "3     NaN\n",
              "Name: F_pp, dtype: float64"
            ]
          },
          "metadata": {},
          "execution_count": 224
        }
      ]
    },
    {
      "cell_type": "code",
      "source": [
        "# визуализация схемы размещения груза на платформе после выполнения расчета параметров:\n",
        "\n",
        "cm = 1/2.54  # centimeters in inches\n",
        "\n",
        "# fig, ax = plt.subplots(figsize=(15*cm, 5*cm))\n",
        "\n",
        "fig, ax = plt.subplots(figsize=(18, 6))\n",
        "\n",
        "# ax.plot(14000, 6000, color=\"black\")\n",
        "markersize = 10\n",
        "\n",
        "nn = 1000\n",
        "    # plotArrow(x_centr,y, bias_x=x_centr, bias_y=0)\n",
        "\n",
        "bias_x = 0\n",
        "bias_y = 0\n",
        "bias_y = 1310\n",
        "\n",
        "\n",
        "\n",
        "\n",
        "x = 13400\n",
        "y = -50\n",
        "plotBox (x,y,bias_x, bias_y )\n",
        "\n",
        "ax.plot([0,x ], [0, 0], color=\"black\", linewidth=0)\n",
        "\n",
        "bias_x = 50\n",
        "\n",
        "direction = 1\n",
        "\n",
        "\n",
        "for i in [3, 1, 4, 2 ]:\n",
        "    x = A[i][1]\n",
        "    y = A[i][3]\n",
        "    plotBox (x,y,bias_x, bias_y, lp=i )\n",
        "\n",
        "    plotArrow_W(x,y,bias_x, bias_y,  direction=1,  y_top=3000 )\n",
        "    if x < 2000:\n",
        "        direction=1\n",
        "    else:\n",
        "        direction=-1\n",
        "    plotArrow_H(x,y,bias_x, bias_y,  direction = direction )\n",
        "\n",
        "    x0 = x+bias_x\n",
        "    y0 = y+bias_y\n",
        "    x_centr = x - x/2\n",
        "    y_centr = y - y/2\n",
        "\n",
        "    plotArrow_W(x_centr, y_centr, bias_x, y_centr+bias_y, direction=-1)\n",
        "    plotArrow_H(x_centr, y_centr, x_centr+bias_x, bias_y, direction=-1)\n",
        "\n",
        "    plotArrow_H(x_centr, y_centr, x_centr+bias_x, bias_y, direction=-1,to_floor =1)\n",
        "\n",
        "    bias_x =bias_x + x +100\n",
        "\n",
        "plt.show()"
      ],
      "metadata": {
        "colab": {
          "base_uri": "https://localhost:8080/",
          "height": 414
        },
        "id": "HQSIeCzsAQB0",
        "outputId": "e6df468e-5f6f-49b4-96df-12ebe664f4b1"
      },
      "execution_count": null,
      "outputs": [
        {
          "output_type": "display_data",
          "data": {
            "text/plain": [
              "<Figure size 1800x600 with 1 Axes>"
            ],
            "image/png": "[encoded data removed]"
          },
          "metadata": {}
        }
      ]
    }
  ]
}